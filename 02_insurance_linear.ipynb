{
  "nbformat": 4,
  "nbformat_minor": 0,
  "metadata": {
    "kernelspec": {
      "display_name": "Python 3",
      "language": "python",
      "name": "python3"
    },
    "language_info": {
      "codemirror_mode": {
        "name": "ipython",
        "version": 3
      },
      "file_extension": ".py",
      "mimetype": "text/x-python",
      "name": "python",
      "nbconvert_exporter": "python",
      "pygments_lexer": "ipython3",
      "version": "3.8.5"
    },
    "colab": {
      "name": "02-insurance-linear.ipynb",
      "provenance": [],
      "collapsed_sections": [
        "V0FLA7nXqdgS",
        "mJ7PQnqwqdgS",
        "98SnvmFEqdgS"
      ],
      "include_colab_link": true
    }
  },
  "cells": [
    {
      "cell_type": "markdown",
      "metadata": {
        "id": "view-in-github",
        "colab_type": "text"
      },
      "source": [
        "<a href=\"https://colab.research.google.com/github/DattatreyaReddy/dl_pract/blob/main/02_insurance_linear.ipynb\" target=\"_parent\"><img src=\"https://colab.research.google.com/assets/colab-badge.svg\" alt=\"Open In Colab\"/></a>"
      ]
    },
    {
      "cell_type": "code",
      "metadata": {
        "id": "Jf3c5nlaqdgK"
      },
      "source": [
        "# Jovian Commit Essentials\n",
        "# Please retain and execute this cell without modifying the contents for `jovian.commit` to work\n",
        "!pip install jovian --upgrade -q\n",
        "import jovian\n",
        "jovian.utils.colab.set_colab_file_id('1cwGlLb8LTYEnmVdQYE9_Ff0211zqJzkM')"
      ],
      "execution_count": 1,
      "outputs": []
    },
    {
      "cell_type": "markdown",
      "metadata": {
        "_cell_guid": "b1076dfc-b9ad-4769-8c92-a6c4dae69d19",
        "_uuid": "8f2839f25d086af736a60e9eeb907d3b93b6e0e5",
        "id": "sumx2TZuqdgL"
      },
      "source": [
        "# Insurance cost prediction using linear regression\n",
        "\n",
        "Make a submisson here: https://jovian.ai/learn/deep-learning-with-pytorch-zero-to-gans/assignment/assignment-2-train-your-first-model\n",
        "\n",
        "In this assignment we're going to use information like a person's age, sex, BMI, no. of children and smoking habit to predict the price of yearly medical bills. This kind of model is useful for insurance companies to determine the yearly insurance premium for a person. The dataset for this problem is taken from [Kaggle](https://www.kaggle.com/mirichoi0218/insurance).\n",
        "\n",
        "\n",
        "We will create a model with the following steps:\n",
        "1. Download and explore the dataset\n",
        "2. Prepare the dataset for training\n",
        "3. Create a linear regression model\n",
        "4. Train the model to fit the data\n",
        "5. Make predictions using the trained model\n",
        "\n",
        "\n",
        "This assignment builds upon the concepts from the first 2 lessons. It will help to review these Jupyter notebooks:\n",
        "- PyTorch basics: https://jovian.ai/aakashns/01-pytorch-basics\n",
        "- Linear Regression: https://jovian.ai/aakashns/02-linear-regression\n",
        "- Logistic Regression: https://jovian.ai/aakashns/03-logistic-regression\n",
        "- Linear regression (minimal): https://jovian.ai/aakashns/housing-linear-minimal\n",
        "- Logistic regression (minimal): https://jovian.ai/aakashns/mnist-logistic-minimal\n",
        "\n",
        "As you go through this notebook, you will find a **???** in certain places. Your job is to replace the **???** with appropriate code or values, to ensure that the notebook runs properly end-to-end . In some cases, you'll be required to choose some hyperparameters (learning rate, batch size etc.). Try to experiment with the hypeparameters to get the lowest loss.\n"
      ]
    },
    {
      "cell_type": "code",
      "metadata": {
        "id": "YHI6tP5HqdgL"
      },
      "source": [
        "# Uncomment and run the appropriate command for your operating system, if required\n",
        "\n",
        "# Linux / Binder\n",
        "# !pip install numpy matplotlib pandas torch==1.7.0+cpu torchvision==0.8.1+cpu torchaudio==0.7.0 -f https://download.pytorch.org/whl/torch_stable.html\n",
        "\n",
        "# Windows\n",
        "# !pip install numpy matplotlib pandas torch==1.7.0+cpu torchvision==0.8.1+cpu torchaudio==0.7.0 -f https://download.pytorch.org/whl/torch_stable.html\n",
        "\n",
        "# MacOS\n",
        "# !pip install numpy matplotlib pandas torch torchvision torchaudio"
      ],
      "execution_count": 2,
      "outputs": []
    },
    {
      "cell_type": "code",
      "metadata": {
        "id": "0amFfl2hqdgL"
      },
      "source": [
        "import torch\n",
        "import jovian\n",
        "import torchvision\n",
        "import torch.nn as nn\n",
        "import pandas as pd\n",
        "import seaborn as sns\n",
        "import matplotlib.pyplot as plt\n",
        "import torch.nn.functional as F\n",
        "from torchvision.datasets.utils import download_url\n",
        "from torch.utils.data import DataLoader, TensorDataset, random_split"
      ],
      "execution_count": 3,
      "outputs": []
    },
    {
      "cell_type": "code",
      "metadata": {
        "id": "qkpCN9CKqdgM"
      },
      "source": [
        "project_name='02-insurance-linear-regression' # will be used by jovian.commit"
      ],
      "execution_count": 4,
      "outputs": []
    },
    {
      "cell_type": "markdown",
      "metadata": {
        "id": "P6BOf5JtqdgM"
      },
      "source": [
        "## Step 1: Download and explore the data\n",
        "\n",
        "Let us begin by downloading the data. We'll use the `download_url` function from PyTorch to get the data as a CSV (comma-separated values) file. "
      ]
    },
    {
      "cell_type": "code",
      "metadata": {
        "_cell_guid": "79c7e3d0-c299-4dcb-8224-4455121ee9b0",
        "_uuid": "d629ff2d2480ee46fbb7e2d37f6b5fab8052498a",
        "colab": {
          "base_uri": "https://localhost:8080/"
        },
        "id": "10qE-6CkqdgM",
        "outputId": "fbdddb35-1fc4-4c49-e046-846ada0e9a53"
      },
      "source": [
        "DATASET_URL = \"https://hub.jovian.ml/wp-content/uploads/2020/05/insurance.csv\"\n",
        "DATA_FILENAME = \"insurance.csv\"\n",
        "download_url(DATASET_URL, '.')"
      ],
      "execution_count": 5,
      "outputs": [
        {
          "output_type": "stream",
          "text": [
            "Using downloaded and verified file: ./insurance.csv\n"
          ],
          "name": "stdout"
        }
      ]
    },
    {
      "cell_type": "markdown",
      "metadata": {
        "id": "uB0ldGAbqdgQ"
      },
      "source": [
        "To load the dataset into memory, we'll use the `read_csv` function from the `pandas` library. The data will be loaded as a Pandas dataframe. See this short tutorial to learn more: https://data36.com/pandas-tutorial-1-basics-reading-data-files-dataframes-data-selection/"
      ]
    },
    {
      "cell_type": "code",
      "metadata": {
        "colab": {
          "base_uri": "https://localhost:8080/",
          "height": 195
        },
        "id": "ma81IUUsqdgQ",
        "outputId": "3446a578-ef86-4963-a3cb-0cb5bd473585"
      },
      "source": [
        "dataframe_raw = pd.read_csv(DATA_FILENAME)\n",
        "dataframe_raw.head()"
      ],
      "execution_count": 6,
      "outputs": [
        {
          "output_type": "execute_result",
          "data": {
            "text/html": [
              "<div>\n",
              "<style scoped>\n",
              "    .dataframe tbody tr th:only-of-type {\n",
              "        vertical-align: middle;\n",
              "    }\n",
              "\n",
              "    .dataframe tbody tr th {\n",
              "        vertical-align: top;\n",
              "    }\n",
              "\n",
              "    .dataframe thead th {\n",
              "        text-align: right;\n",
              "    }\n",
              "</style>\n",
              "<table border=\"1\" class=\"dataframe\">\n",
              "  <thead>\n",
              "    <tr style=\"text-align: right;\">\n",
              "      <th></th>\n",
              "      <th>age</th>\n",
              "      <th>sex</th>\n",
              "      <th>bmi</th>\n",
              "      <th>children</th>\n",
              "      <th>smoker</th>\n",
              "      <th>region</th>\n",
              "      <th>charges</th>\n",
              "    </tr>\n",
              "  </thead>\n",
              "  <tbody>\n",
              "    <tr>\n",
              "      <th>0</th>\n",
              "      <td>19</td>\n",
              "      <td>female</td>\n",
              "      <td>27.900</td>\n",
              "      <td>0</td>\n",
              "      <td>yes</td>\n",
              "      <td>southwest</td>\n",
              "      <td>16884.92400</td>\n",
              "    </tr>\n",
              "    <tr>\n",
              "      <th>1</th>\n",
              "      <td>18</td>\n",
              "      <td>male</td>\n",
              "      <td>33.770</td>\n",
              "      <td>1</td>\n",
              "      <td>no</td>\n",
              "      <td>southeast</td>\n",
              "      <td>1725.55230</td>\n",
              "    </tr>\n",
              "    <tr>\n",
              "      <th>2</th>\n",
              "      <td>28</td>\n",
              "      <td>male</td>\n",
              "      <td>33.000</td>\n",
              "      <td>3</td>\n",
              "      <td>no</td>\n",
              "      <td>southeast</td>\n",
              "      <td>4449.46200</td>\n",
              "    </tr>\n",
              "    <tr>\n",
              "      <th>3</th>\n",
              "      <td>33</td>\n",
              "      <td>male</td>\n",
              "      <td>22.705</td>\n",
              "      <td>0</td>\n",
              "      <td>no</td>\n",
              "      <td>northwest</td>\n",
              "      <td>21984.47061</td>\n",
              "    </tr>\n",
              "    <tr>\n",
              "      <th>4</th>\n",
              "      <td>32</td>\n",
              "      <td>male</td>\n",
              "      <td>28.880</td>\n",
              "      <td>0</td>\n",
              "      <td>no</td>\n",
              "      <td>northwest</td>\n",
              "      <td>3866.85520</td>\n",
              "    </tr>\n",
              "  </tbody>\n",
              "</table>\n",
              "</div>"
            ],
            "text/plain": [
              "   age     sex     bmi  children smoker     region      charges\n",
              "0   19  female  27.900         0    yes  southwest  16884.92400\n",
              "1   18    male  33.770         1     no  southeast   1725.55230\n",
              "2   28    male  33.000         3     no  southeast   4449.46200\n",
              "3   33    male  22.705         0     no  northwest  21984.47061\n",
              "4   32    male  28.880         0     no  northwest   3866.85520"
            ]
          },
          "metadata": {
            "tags": []
          },
          "execution_count": 6
        }
      ]
    },
    {
      "cell_type": "markdown",
      "metadata": {
        "id": "T5wlnSrQqdgQ"
      },
      "source": [
        "We're going to do a slight customization of the data, so that you every participant receives a slightly different version of the dataset. Fill in your name below as a string (enter at least 5 characters)"
      ]
    },
    {
      "cell_type": "code",
      "metadata": {
        "id": "l8pdTDDMqdgQ"
      },
      "source": [
        "your_name = 'datta' # at least 5 characters"
      ],
      "execution_count": 7,
      "outputs": []
    },
    {
      "cell_type": "markdown",
      "metadata": {
        "id": "VIlJYpFqqdgQ"
      },
      "source": [
        "The `customize_dataset` function will customize the dataset slightly using your name as a source of random numbers."
      ]
    },
    {
      "cell_type": "code",
      "metadata": {
        "id": "dXmTv3I_qdgQ"
      },
      "source": [
        "def customize_dataset(dataframe_raw, rand_str):\n",
        "    dataframe = dataframe_raw.copy(deep=True)\n",
        "    # drop some rows\n",
        "    dataframe = dataframe.sample(int(0.95*len(dataframe)), random_state=int(ord(rand_str[0])))\n",
        "    # scale input\n",
        "    dataframe.bmi = dataframe.bmi * ord(rand_str[1])/100.\n",
        "    # scale target\n",
        "    dataframe.charges = dataframe.charges * ord(rand_str[2])/100.\n",
        "    # drop column\n",
        "    if ord(rand_str[3]) % 2 == 1:\n",
        "        dataframe = dataframe.drop(['region'], axis=1)\n",
        "    return dataframe"
      ],
      "execution_count": 8,
      "outputs": []
    },
    {
      "cell_type": "code",
      "metadata": {
        "colab": {
          "base_uri": "https://localhost:8080/",
          "height": 195
        },
        "id": "0MsevTodqdgQ",
        "outputId": "ff3bee71-d296-49e2-ded5-53ec6fb7c78a"
      },
      "source": [
        "dataframe = customize_dataset(dataframe_raw, your_name)\n",
        "dataframe.head()"
      ],
      "execution_count": 9,
      "outputs": [
        {
          "output_type": "execute_result",
          "data": {
            "text/html": [
              "<div>\n",
              "<style scoped>\n",
              "    .dataframe tbody tr th:only-of-type {\n",
              "        vertical-align: middle;\n",
              "    }\n",
              "\n",
              "    .dataframe tbody tr th {\n",
              "        vertical-align: top;\n",
              "    }\n",
              "\n",
              "    .dataframe thead th {\n",
              "        text-align: right;\n",
              "    }\n",
              "</style>\n",
              "<table border=\"1\" class=\"dataframe\">\n",
              "  <thead>\n",
              "    <tr style=\"text-align: right;\">\n",
              "      <th></th>\n",
              "      <th>age</th>\n",
              "      <th>sex</th>\n",
              "      <th>bmi</th>\n",
              "      <th>children</th>\n",
              "      <th>smoker</th>\n",
              "      <th>region</th>\n",
              "      <th>charges</th>\n",
              "    </tr>\n",
              "  </thead>\n",
              "  <tbody>\n",
              "    <tr>\n",
              "      <th>12</th>\n",
              "      <td>23</td>\n",
              "      <td>male</td>\n",
              "      <td>33.36800</td>\n",
              "      <td>0</td>\n",
              "      <td>no</td>\n",
              "      <td>southwest</td>\n",
              "      <td>2119.137880</td>\n",
              "    </tr>\n",
              "    <tr>\n",
              "      <th>306</th>\n",
              "      <td>28</td>\n",
              "      <td>female</td>\n",
              "      <td>26.67500</td>\n",
              "      <td>2</td>\n",
              "      <td>no</td>\n",
              "      <td>southwest</td>\n",
              "      <td>23406.098511</td>\n",
              "    </tr>\n",
              "    <tr>\n",
              "      <th>318</th>\n",
              "      <td>44</td>\n",
              "      <td>female</td>\n",
              "      <td>26.81565</td>\n",
              "      <td>0</td>\n",
              "      <td>no</td>\n",
              "      <td>northwest</td>\n",
              "      <td>8608.585678</td>\n",
              "    </tr>\n",
              "    <tr>\n",
              "      <th>815</th>\n",
              "      <td>20</td>\n",
              "      <td>female</td>\n",
              "      <td>30.51620</td>\n",
              "      <td>0</td>\n",
              "      <td>no</td>\n",
              "      <td>southeast</td>\n",
              "      <td>2178.398104</td>\n",
              "    </tr>\n",
              "    <tr>\n",
              "      <th>157</th>\n",
              "      <td>18</td>\n",
              "      <td>male</td>\n",
              "      <td>24.41975</td>\n",
              "      <td>0</td>\n",
              "      <td>yes</td>\n",
              "      <td>northeast</td>\n",
              "      <td>18001.089090</td>\n",
              "    </tr>\n",
              "  </tbody>\n",
              "</table>\n",
              "</div>"
            ],
            "text/plain": [
              "     age     sex       bmi  children smoker     region       charges\n",
              "12    23    male  33.36800         0     no  southwest   2119.137880\n",
              "306   28  female  26.67500         2     no  southwest  23406.098511\n",
              "318   44  female  26.81565         0     no  northwest   8608.585678\n",
              "815   20  female  30.51620         0     no  southeast   2178.398104\n",
              "157   18    male  24.41975         0    yes  northeast  18001.089090"
            ]
          },
          "metadata": {
            "tags": []
          },
          "execution_count": 9
        }
      ]
    },
    {
      "cell_type": "markdown",
      "metadata": {
        "id": "LC_FRn5XqdgQ"
      },
      "source": [
        "Let us answer some basic questions about the dataset. \n",
        "\n",
        "\n",
        "**Q: How many rows does the dataset have?**"
      ]
    },
    {
      "cell_type": "code",
      "metadata": {
        "colab": {
          "base_uri": "https://localhost:8080/"
        },
        "id": "QE_IhO0_tFRC",
        "outputId": "e7374aac-42ce-46c0-bbb6-a0353af17c20"
      },
      "source": [
        "dataframe.shape"
      ],
      "execution_count": 10,
      "outputs": [
        {
          "output_type": "execute_result",
          "data": {
            "text/plain": [
              "(1271, 7)"
            ]
          },
          "metadata": {
            "tags": []
          },
          "execution_count": 10
        }
      ]
    },
    {
      "cell_type": "code",
      "metadata": {
        "colab": {
          "base_uri": "https://localhost:8080/"
        },
        "id": "u25zfoFJqdgQ",
        "outputId": "c186016f-9cdd-4ab0-a95b-c0be2fa13c9e"
      },
      "source": [
        "num_rows = 1271\n",
        "print(num_rows)"
      ],
      "execution_count": 11,
      "outputs": [
        {
          "output_type": "stream",
          "text": [
            "1271\n"
          ],
          "name": "stdout"
        }
      ]
    },
    {
      "cell_type": "markdown",
      "metadata": {
        "id": "kHZsSthQqdgQ"
      },
      "source": [
        "**Q: How many columns doe the dataset have**"
      ]
    },
    {
      "cell_type": "code",
      "metadata": {
        "colab": {
          "base_uri": "https://localhost:8080/"
        },
        "id": "GS3Gv1r3qdgQ",
        "outputId": "18bdb095-192e-472c-d040-ed924a359dbb"
      },
      "source": [
        "num_cols = 7\n",
        "print(num_cols)"
      ],
      "execution_count": 12,
      "outputs": [
        {
          "output_type": "stream",
          "text": [
            "7\n"
          ],
          "name": "stdout"
        }
      ]
    },
    {
      "cell_type": "markdown",
      "metadata": {
        "id": "ArS76-uqqdgQ"
      },
      "source": [
        "**Q: What are the column titles of the input variables?**"
      ]
    },
    {
      "cell_type": "code",
      "metadata": {
        "id": "9PD3Bh3eqdgQ"
      },
      "source": [
        "input_cols = ['age','sex','bmi','children','smoker','region']"
      ],
      "execution_count": 13,
      "outputs": []
    },
    {
      "cell_type": "markdown",
      "metadata": {
        "id": "qZAI_zyjqdgQ"
      },
      "source": [
        "**Q: Which of the input columns are non-numeric or categorial variables ?**\n",
        "\n",
        "Hint: `sex` is one of them. List the columns that are not numbers."
      ]
    },
    {
      "cell_type": "code",
      "metadata": {
        "id": "zPs9ap7JqdgQ"
      },
      "source": [
        "categorical_cols = ['sex','smoker','region']"
      ],
      "execution_count": 14,
      "outputs": []
    },
    {
      "cell_type": "markdown",
      "metadata": {
        "id": "PWgKsNRrqdgQ"
      },
      "source": [
        "**Q: What are the column titles of output/target variable(s)?**"
      ]
    },
    {
      "cell_type": "code",
      "metadata": {
        "id": "6Xi2zfK_qdgQ"
      },
      "source": [
        "output_cols = ['charges']"
      ],
      "execution_count": 15,
      "outputs": []
    },
    {
      "cell_type": "markdown",
      "metadata": {
        "id": "JiVsXBl0qdgQ"
      },
      "source": [
        "**Q: (Optional) What is the minimum, maximum and average value of the `charges` column? Can you show the distribution of values in a graph?**\n",
        "Use this data visualization cheatsheet for referece: https://jovian.ml/aakashns/dataviz-cheatsheet"
      ]
    },
    {
      "cell_type": "code",
      "metadata": {
        "colab": {
          "base_uri": "https://localhost:8080/"
        },
        "id": "SOrd_TPaqdgQ",
        "outputId": "b5bee350-2d47-4a91-e69d-0704ce0b49ca"
      },
      "source": [
        "max_charge = dataframe.charges.max()\n",
        "min_charge = dataframe.charges.min()\n",
        "avg_charge = dataframe.charges.mean()\n",
        "print('charges column details: \\n  minimum = {},\\n  maximum = {} \\n  average = {}'.format(min_charge,max_charge,avg_charge))"
      ],
      "execution_count": 16,
      "outputs": [
        {
          "output_type": "stream",
          "text": [
            "charges column details: \n",
            "  minimum = 1301.373724,\n",
            "  maximum = 73973.6964916 \n",
            "  average = 15490.666485381935\n"
          ],
          "name": "stdout"
        }
      ]
    },
    {
      "cell_type": "code",
      "metadata": {
        "colab": {
          "base_uri": "https://localhost:8080/",
          "height": 366
        },
        "id": "pCApFciqxLzv",
        "outputId": "ee0bd0ec-7871-44ed-ef8f-3859c15eab2d"
      },
      "source": [
        "%matplotlib inline\n",
        "plt.title('Distribution of Age')\n",
        "sns.barplot( dataframe.age,dataframe.charges)"
      ],
      "execution_count": 17,
      "outputs": [
        {
          "output_type": "stream",
          "text": [
            "/usr/local/lib/python3.6/dist-packages/seaborn/_decorators.py:43: FutureWarning: Pass the following variables as keyword args: x, y. From version 0.12, the only valid positional argument will be `data`, and passing other arguments without an explicit keyword will result in an error or misinterpretation.\n",
            "  FutureWarning\n"
          ],
          "name": "stderr"
        },
        {
          "output_type": "execute_result",
          "data": {
            "text/plain": [
              "<matplotlib.axes._subplots.AxesSubplot at 0x7f68d51cd400>"
            ]
          },
          "metadata": {
            "tags": []
          },
          "execution_count": 17
        },
        {
          "output_type": "display_data",
          "data": {
            "image/png": "[encoded data removed]",
            "text/plain": [
              "<Figure size 432x288 with 1 Axes>"
            ]
          },
          "metadata": {
            "tags": [],
            "needs_background": "light"
          }
        }
      ]
    },
    {
      "cell_type": "markdown",
      "metadata": {
        "id": "hUjw2rtuqdgQ"
      },
      "source": [
        "Remember to commit your notebook to Jovian after every step, so that you don't lose your work."
      ]
    },
    {
      "cell_type": "code",
      "metadata": {
        "id": "Kx2hSbNmqdgR"
      },
      "source": [
        "!pip install jovian --upgrade -q"
      ],
      "execution_count": 18,
      "outputs": []
    },
    {
      "cell_type": "code",
      "metadata": {
        "id": "xeJs4sr8qdgR"
      },
      "source": [
        "import jovian"
      ],
      "execution_count": 19,
      "outputs": []
    },
    {
      "cell_type": "code",
      "metadata": {
        "colab": {
          "base_uri": "https://localhost:8080/",
          "height": 102
        },
        "id": "tMUv9eeSqdgR",
        "outputId": "d3db6973-4a80-4a7c-ebb0-731a6457dda0"
      },
      "source": [
        "jovian.commit(project=project_name)"
      ],
      "execution_count": 20,
      "outputs": [
        {
          "output_type": "stream",
          "text": [
            "[jovian] Detected Colab notebook...\u001b[0m\n",
            "[jovian] Uploading colab notebook to Jovian...\u001b[0m\n",
            "[jovian] Capturing environment..\u001b[0m\n",
            "[jovian] Committed successfully! https://jovian.ai/dattatreyareddy/02-insurance-linear-regression\u001b[0m\n"
          ],
          "name": "stdout"
        },
        {
          "output_type": "execute_result",
          "data": {
            "application/vnd.google.colaboratory.intrinsic+json": {
              "type": "string"
            },
            "text/plain": [
              "'https://jovian.ai/dattatreyareddy/02-insurance-linear-regression'"
            ]
          },
          "metadata": {
            "tags": []
          },
          "execution_count": 20
        }
      ]
    },
    {
      "cell_type": "markdown",
      "metadata": {
        "id": "ssgChytyqdgR"
      },
      "source": [
        "## Step 2: Prepare the dataset for training\n",
        "\n",
        "We need to convert the data from the Pandas dataframe into a PyTorch tensors for training. To do this, the first step is to convert it numpy arrays. If you've filled out `input_cols`, `categorial_cols` and `output_cols` correctly, this following function will perform the conversion to numpy arrays."
      ]
    },
    {
      "cell_type": "code",
      "metadata": {
        "id": "JM8ru92eqdgR"
      },
      "source": [
        "def dataframe_to_arrays(dataframe):\n",
        "    # Make a copy of the original dataframe\n",
        "    dataframe1 = dataframe.copy(deep=True)\n",
        "    # Convert non-numeric categorical columns to numbers\n",
        "    for col in categorical_cols:\n",
        "        dataframe1[col] = dataframe1[col].astype('category').cat.codes\n",
        "    # Extract input & outupts as numpy arrays\n",
        "    inputs_array = dataframe1[input_cols].to_numpy()\n",
        "    targets_array = dataframe1[output_cols].to_numpy()\n",
        "    return inputs_array, targets_array"
      ],
      "execution_count": 21,
      "outputs": []
    },
    {
      "cell_type": "markdown",
      "metadata": {
        "id": "6Ri-XyZcqdgR"
      },
      "source": [
        "Read through the [Pandas documentation](https://pandas.pydata.org/pandas-docs/stable/user_guide/categorical.html) to understand how we're converting categorical variables into numbers."
      ]
    },
    {
      "cell_type": "code",
      "metadata": {
        "colab": {
          "base_uri": "https://localhost:8080/"
        },
        "id": "Uf2PPJxEqdgR",
        "outputId": "4ce2369e-d2c6-4d68-a0ec-feb08120a54e"
      },
      "source": [
        "inputs_array, targets_array = dataframe_to_arrays(dataframe)\n",
        "inputs_array, targets_array"
      ],
      "execution_count": 22,
      "outputs": [
        {
          "output_type": "execute_result",
          "data": {
            "text/plain": [
              "(array([[23.     ,  1.     , 33.368  ,  0.     ,  0.     ,  3.     ],\n",
              "        [28.     ,  0.     , 26.675  ,  2.     ,  0.     ,  3.     ],\n",
              "        [44.     ,  0.     , 26.81565,  0.     ,  0.     ,  1.     ],\n",
              "        ...,\n",
              "        [35.     ,  1.     , 35.5699 ,  1.     ,  1.     ,  0.     ],\n",
              "        [59.     ,  0.     , 30.4095 ,  0.     ,  0.     ,  1.     ],\n",
              "        [62.     ,  0.     , 31.97605,  3.     ,  0.     ,  1.     ]]),\n",
              " array([[ 2119.13788  ],\n",
              "        [23406.0985108],\n",
              "        [ 8608.585678 ],\n",
              "        ...,\n",
              "        [46138.160508 ],\n",
              "        [14641.72822  ],\n",
              "        [18110.144286 ]]))"
            ]
          },
          "metadata": {
            "tags": []
          },
          "execution_count": 22
        }
      ]
    },
    {
      "cell_type": "markdown",
      "metadata": {
        "id": "K9CawOm_qdgR"
      },
      "source": [
        "**Q: Convert the numpy arrays `inputs_array` and `targets_array` into PyTorch tensors. Make sure that the data type is `torch.float32`.**"
      ]
    },
    {
      "cell_type": "code",
      "metadata": {
        "id": "M9zsJnSSqdgR"
      },
      "source": [
        "inputs = torch.tensor(inputs_array,dtype=torch.float32)\n",
        "targets = torch.tensor(targets_array,dtype=torch.float32)"
      ],
      "execution_count": 23,
      "outputs": []
    },
    {
      "cell_type": "code",
      "metadata": {
        "colab": {
          "base_uri": "https://localhost:8080/"
        },
        "id": "ahSmdG54qdgR",
        "outputId": "531d75f5-f010-4d92-be4f-a32446dc0029"
      },
      "source": [
        "inputs.dtype, targets.dtype"
      ],
      "execution_count": 24,
      "outputs": [
        {
          "output_type": "execute_result",
          "data": {
            "text/plain": [
              "(torch.float32, torch.float32)"
            ]
          },
          "metadata": {
            "tags": []
          },
          "execution_count": 24
        }
      ]
    },
    {
      "cell_type": "markdown",
      "metadata": {
        "id": "GbIceQPiqdgR"
      },
      "source": [
        "Next, we need to create PyTorch datasets & data loaders for training & validation. We'll start by creating a `TensorDataset`."
      ]
    },
    {
      "cell_type": "code",
      "metadata": {
        "id": "U6lvxdptqdgR"
      },
      "source": [
        "dataset = TensorDataset(inputs, targets)"
      ],
      "execution_count": 25,
      "outputs": []
    },
    {
      "cell_type": "markdown",
      "metadata": {
        "id": "pnQvHEoUqdgR"
      },
      "source": [
        "**Q: Pick a number between `0.1` and `0.2` to determine the fraction of data that will be used for creating the validation set. Then use `random_split` to create training & validation datasets.**"
      ]
    },
    {
      "cell_type": "code",
      "metadata": {
        "id": "RIqungmoqdgR"
      },
      "source": [
        "val_percent = 0.12 # between 0.1 and 0.2\n",
        "val_size = int(num_rows * val_percent)\n",
        "train_size = num_rows - val_size\n",
        "\n",
        "\n",
        "train_ds, val_ds = random_split(dataset,[train_size,val_size],torch.Generator().manual_seed(42)) # Use the random_split function to split dataset into 2 parts of the desired length"
      ],
      "execution_count": 26,
      "outputs": []
    },
    {
      "cell_type": "markdown",
      "metadata": {
        "id": "6ipm2JA9qdgR"
      },
      "source": [
        "Finally, we can create data loaders for training & validation.\n",
        "\n",
        "**Q: Pick a batch size for the data loader.**"
      ]
    },
    {
      "cell_type": "code",
      "metadata": {
        "id": "YdtpB1MsqdgR"
      },
      "source": [
        "batch_size = 128"
      ],
      "execution_count": 27,
      "outputs": []
    },
    {
      "cell_type": "code",
      "metadata": {
        "id": "VBWL3RFQqdgR"
      },
      "source": [
        "train_loader = DataLoader(train_ds, batch_size, shuffle=True)\n",
        "val_loader = DataLoader(val_ds, batch_size)"
      ],
      "execution_count": 28,
      "outputs": []
    },
    {
      "cell_type": "markdown",
      "metadata": {
        "id": "nqnMa4JrqdgR"
      },
      "source": [
        "Let's look at a batch of data to verify everything is working fine so far."
      ]
    },
    {
      "cell_type": "code",
      "metadata": {
        "colab": {
          "base_uri": "https://localhost:8080/"
        },
        "id": "NnfXPiK9qdgR",
        "outputId": "32d3e75c-a759-42ce-9d2c-180681ec159f"
      },
      "source": [
        "for xb, yb in train_loader:\n",
        "    print(\"inputs:\", xb)\n",
        "    print(\"targets:\", yb)\n",
        "    break"
      ],
      "execution_count": 29,
      "outputs": [
        {
          "output_type": "stream",
          "text": [
            "inputs: tensor([[41.0000,  1.0000, 33.1740,  2.0000,  0.0000,  1.0000],\n",
            "        [28.0000,  0.0000, 23.1297,  2.0000,  0.0000,  1.0000],\n",
            "        [51.0000,  0.0000, 35.9385,  3.0000,  1.0000,  0.0000],\n",
            "        [35.0000,  1.0000, 29.5850,  1.0000,  0.0000,  3.0000],\n",
            "        [39.0000,  0.0000, 31.5250,  1.0000,  0.0000,  3.0000],\n",
            "        [64.0000,  1.0000, 33.4650,  0.0000,  0.0000,  3.0000],\n",
            "        [18.0000,  0.0000, 30.1961,  0.0000,  0.0000,  2.0000],\n",
            "        [18.0000,  0.0000, 38.6254,  0.0000,  0.0000,  2.0000],\n",
            "        [30.0000,  1.0000, 22.3003,  2.0000,  1.0000,  1.0000],\n",
            "        [18.0000,  1.0000, 22.3003,  0.0000,  0.0000,  0.0000],\n",
            "        [46.0000,  1.0000, 21.6310,  0.0000,  0.0000,  3.0000],\n",
            "        [42.0000,  0.0000, 24.2355,  2.0000,  0.0000,  1.0000],\n",
            "        [32.0000,  1.0000, 32.6211,  1.0000,  1.0000,  0.0000],\n",
            "        [37.0000,  0.0000, 46.1720,  2.0000,  1.0000,  3.0000],\n",
            "        [34.0000,  0.0000, 32.2525,  1.0000,  0.0000,  0.0000],\n",
            "        [64.0000,  0.0000, 38.1501,  0.0000,  0.0000,  0.0000],\n",
            "        [39.0000,  1.0000, 28.7120,  4.0000,  0.0000,  3.0000],\n",
            "        [25.0000,  1.0000, 25.0648,  1.0000,  0.0000,  0.0000],\n",
            "        [55.0000,  1.0000, 31.6899,  1.0000,  0.0000,  2.0000],\n",
            "        [62.0000,  0.0000, 36.9521,  2.0000,  0.0000,  0.0000],\n",
            "        [31.0000,  1.0000, 25.1569,  1.0000,  0.0000,  1.0000],\n",
            "        [49.0000,  0.0000, 40.2259,  4.0000,  0.0000,  2.0000],\n",
            "        [54.0000,  0.0000, 23.8668,  3.0000,  0.0000,  1.0000],\n",
            "        [60.0000,  1.0000, 27.7372,  0.0000,  0.0000,  0.0000],\n",
            "        [22.0000,  1.0000, 34.5320,  0.0000,  1.0000,  3.0000],\n",
            "        [61.0000,  1.0000, 32.8975,  0.0000,  0.0000,  0.0000],\n",
            "        [22.0000,  1.0000, 26.0348,  0.0000,  0.0000,  2.0000],\n",
            "        [18.0000,  1.0000, 22.6204,  1.0000,  0.0000,  2.0000],\n",
            "        [28.0000,  1.0000, 23.0860,  2.0000,  0.0000,  3.0000],\n",
            "        [50.0000,  1.0000, 31.2388,  0.0000,  0.0000,  1.0000],\n",
            "        [52.0000,  0.0000, 43.3590,  3.0000,  0.0000,  3.0000],\n",
            "        [40.0000,  0.0000, 32.0100,  3.0000,  0.0000,  2.0000],\n",
            "        [60.0000,  1.0000, 32.1167,  3.0000,  0.0000,  2.0000],\n",
            "        [44.0000,  0.0000, 37.7815,  0.0000,  1.0000,  1.0000],\n",
            "        [31.0000,  0.0000, 36.9521,  1.0000,  1.0000,  0.0000],\n",
            "        [28.0000,  1.0000, 28.3822,  2.0000,  0.0000,  0.0000],\n",
            "        [57.0000,  1.0000, 39.1589,  0.0000,  0.0000,  2.0000],\n",
            "        [18.0000,  0.0000, 37.1316,  0.0000,  0.0000,  2.0000],\n",
            "        [23.0000,  0.0000, 22.4846,  2.0000,  0.0000,  1.0000],\n",
            "        [53.0000,  1.0000, 40.2259,  0.0000,  0.0000,  2.0000],\n",
            "        [42.0000,  1.0000, 30.3174,  0.0000,  0.0000,  1.0000],\n",
            "        [29.0000,  1.0000, 33.3680,  0.0000,  1.0000,  3.0000],\n",
            "        [36.0000,  0.0000, 29.0224,  0.0000,  0.0000,  2.0000],\n",
            "        [52.0000,  1.0000, 32.2525,  0.0000,  0.0000,  0.0000],\n",
            "        [53.0000,  1.0000, 20.2730,  0.0000,  1.0000,  2.0000],\n",
            "        [19.0000,  1.0000, 19.6910,  0.0000,  0.0000,  3.0000],\n",
            "        [50.0000,  0.0000, 27.3152,  3.0000,  0.0000,  2.0000],\n",
            "        [57.0000,  0.0000, 23.2606,  1.0000,  0.0000,  2.0000],\n",
            "        [31.0000,  1.0000, 37.2383,  2.0000,  0.0000,  2.0000],\n",
            "        [46.0000,  1.0000, 39.1637,  2.0000,  0.0000,  1.0000],\n",
            "        [56.0000,  1.0000, 32.7132,  0.0000,  0.0000,  1.0000],\n",
            "        [19.0000,  1.0000, 19.9965,  2.0000,  0.0000,  1.0000],\n",
            "        [48.0000,  0.0000, 32.1167,  0.0000,  1.0000,  2.0000],\n",
            "        [26.0000,  1.0000, 34.3574,  0.0000,  0.0000,  2.0000],\n",
            "        [39.0000,  0.0000, 17.7510,  5.0000,  1.0000,  3.0000],\n",
            "        [31.0000,  0.0000, 25.0260,  2.0000,  0.0000,  3.0000],\n",
            "        [49.0000,  0.0000, 41.3996,  2.0000,  0.0000,  2.0000],\n",
            "        [51.0000,  1.0000, 30.6859,  0.0000,  0.0000,  1.0000],\n",
            "        [21.0000,  0.0000, 33.8239,  0.0000,  0.0000,  2.0000],\n",
            "        [35.0000,  0.0000, 30.0700,  1.0000,  0.0000,  3.0000],\n",
            "        [55.0000,  1.0000, 31.7917,  0.0000,  0.0000,  1.0000],\n",
            "        [22.0000,  0.0000, 19.6280,  0.0000,  0.0000,  1.0000],\n",
            "        [49.0000,  0.0000, 20.6610,  1.0000,  0.0000,  3.0000],\n",
            "        [18.0000,  1.0000, 25.3946,  2.0000,  0.0000,  2.0000],\n",
            "        [18.0000,  1.0000, 29.2358,  0.0000,  0.0000,  2.0000],\n",
            "        [19.0000,  1.0000, 21.1024,  0.0000,  0.0000,  1.0000],\n",
            "        [40.0000,  0.0000, 22.6689,  3.0000,  0.0000,  0.0000],\n",
            "        [30.0000,  0.0000, 32.3301,  1.0000,  0.0000,  2.0000],\n",
            "        [36.0000,  0.0000, 25.1230,  1.0000,  0.0000,  3.0000],\n",
            "        [34.0000,  1.0000, 21.7474,  2.0000,  0.0000,  0.0000],\n",
            "        [19.0000,  1.0000, 29.4880,  0.0000,  0.0000,  3.0000],\n",
            "        [35.0000,  0.0000, 34.7406,  1.0000,  0.0000,  1.0000],\n",
            "        [48.0000,  0.0000, 35.4777,  0.0000,  0.0000,  1.0000],\n",
            "        [52.0000,  0.0000, 30.7781,  2.0000,  0.0000,  1.0000],\n",
            "        [29.0000,  1.0000, 32.3447,  2.0000,  0.0000,  1.0000],\n",
            "        [51.0000,  0.0000, 35.2934,  3.0000,  0.0000,  1.0000],\n",
            "        [19.0000,  1.0000, 26.4471,  2.0000,  0.0000,  1.0000],\n",
            "        [23.0000,  0.0000, 38.0919,  2.0000,  0.0000,  2.0000],\n",
            "        [20.0000,  0.0000, 21.1460,  0.0000,  1.0000,  3.0000],\n",
            "        [18.0000,  0.0000, 23.3673,  1.0000,  0.0000,  2.0000],\n",
            "        [18.0000,  1.0000, 34.1440,  1.0000,  0.0000,  2.0000],\n",
            "        [27.0000,  0.0000, 34.9976,  0.0000,  1.0000,  2.0000],\n",
            "        [24.0000,  1.0000, 32.6211,  4.0000,  0.0000,  0.0000],\n",
            "        [34.0000,  1.0000, 26.1900,  2.0000,  0.0000,  3.0000],\n",
            "        [46.0000,  1.0000, 19.2593,  0.0000,  0.0000,  1.0000],\n",
            "        [36.0000,  1.0000, 26.7235,  3.0000,  0.0000,  0.0000],\n",
            "        [22.0000,  1.0000, 33.7560,  3.0000,  0.0000,  3.0000],\n",
            "        [35.0000,  1.0000, 33.7269,  2.0000,  0.0000,  1.0000],\n",
            "        [40.0000,  1.0000, 24.2209,  2.0000,  0.0000,  2.0000],\n",
            "        [18.0000,  1.0000, 39.9058,  0.0000,  0.0000,  2.0000],\n",
            "        [37.0000,  0.0000, 24.7883,  1.0000,  1.0000,  0.0000],\n",
            "        [64.0000,  0.0000, 30.3610,  2.0000,  1.0000,  3.0000],\n",
            "        [43.0000,  0.0000, 23.9590,  2.0000,  1.0000,  1.0000],\n",
            "        [45.0000,  0.0000, 30.8363,  0.0000,  0.0000,  2.0000],\n",
            "        [42.0000,  0.0000, 31.8839,  0.0000,  0.0000,  0.0000],\n",
            "        [29.0000,  1.0000, 28.7508,  1.0000,  0.0000,  0.0000],\n",
            "        [54.0000,  1.0000, 29.1194,  0.0000,  0.0000,  1.0000],\n",
            "        [30.0000,  1.0000, 26.8157,  1.0000,  0.0000,  0.0000],\n",
            "        [56.0000,  1.0000, 39.0910,  0.0000,  0.0000,  3.0000],\n",
            "        [31.0000,  1.0000, 26.0784,  1.0000,  0.0000,  0.0000],\n",
            "        [42.0000,  1.0000, 26.0930,  0.0000,  0.0000,  3.0000],\n",
            "        [41.0000,  1.0000, 23.2218,  1.0000,  0.0000,  0.0000],\n",
            "        [63.0000,  0.0000, 35.7445,  0.0000,  0.0000,  2.0000],\n",
            "        [21.0000,  1.0000, 30.0894,  0.0000,  0.0000,  2.0000],\n",
            "        [56.0000,  1.0000, 21.4370,  0.0000,  0.0000,  3.0000],\n",
            "        [44.0000,  1.0000, 35.9870,  2.0000,  0.0000,  3.0000],\n",
            "        [37.0000,  1.0000, 28.7508,  0.0000,  0.0000,  1.0000],\n",
            "        [49.0000,  0.0000, 26.3549,  0.0000,  0.0000,  2.0000],\n",
            "        [63.0000,  0.0000, 34.1440,  1.0000,  0.0000,  2.0000],\n",
            "        [21.0000,  1.0000, 35.7542,  0.0000,  0.0000,  1.0000],\n",
            "        [22.0000,  1.0000, 30.7781,  0.0000,  0.0000,  0.0000],\n",
            "        [29.0000,  0.0000, 23.8620,  2.0000,  0.0000,  3.0000],\n",
            "        [29.0000,  1.0000, 34.4350,  2.0000,  1.0000,  3.0000],\n",
            "        [18.0000,  0.0000, 30.9624,  0.0000,  0.0000,  0.0000],\n",
            "        [37.0000,  0.0000, 29.8760,  2.0000,  0.0000,  2.0000],\n",
            "        [35.0000,  0.0000, 36.9521,  2.0000,  0.0000,  0.0000],\n",
            "        [62.0000,  1.0000, 31.0546,  0.0000,  1.0000,  0.0000],\n",
            "        [44.0000,  0.0000, 19.6280,  1.0000,  1.0000,  0.0000],\n",
            "        [19.0000,  1.0000, 20.2730,  1.0000,  0.0000,  3.0000],\n",
            "        [58.0000,  1.0000, 29.3958,  0.0000,  0.0000,  0.0000],\n",
            "        [38.0000,  0.0000, 27.1600,  3.0000,  0.0000,  3.0000],\n",
            "        [30.0000,  1.0000, 24.6962,  0.0000,  0.0000,  0.0000],\n",
            "        [39.0000,  1.0000, 33.0770,  2.0000,  0.0000,  2.0000],\n",
            "        [47.0000,  1.0000, 27.3685,  3.0000,  1.0000,  1.0000],\n",
            "        [48.0000,  1.0000, 29.8566,  3.0000,  0.0000,  0.0000],\n",
            "        [41.0000,  0.0000, 32.0682,  2.0000,  0.0000,  1.0000],\n",
            "        [26.0000,  1.0000, 30.1331,  0.0000,  0.0000,  1.0000],\n",
            "        [61.0000,  0.0000, 29.0224,  3.0000,  1.0000,  2.0000]])\n",
            "targets: tensor([[ 8423.6191],\n",
            "        [ 5474.8945],\n",
            "        [53655.9297],\n",
            "        [ 5511.2412],\n",
            "        [ 7236.4258],\n",
            "        [16034.4512],\n",
            "        [ 1881.3839],\n",
            "        [ 1895.3956],\n",
            "        [20139.6484],\n",
            "        [ 1977.2990],\n",
            "        [ 8290.6416],\n",
            "        [ 9299.7910],\n",
            "        [43624.7305],\n",
            "        [53491.6719],\n",
            "        [ 6490.0210],\n",
            "        [17285.7598],\n",
            "        [ 8714.2295],\n",
            "        [ 3839.3594],\n",
            "        [12536.6846],\n",
            "        [17667.1758],\n",
            "        [ 4918.2754],\n",
            "        [12733.5596],\n",
            "        [14476.4619],\n",
            "        [35101.5938],\n",
            "        [41279.2695],\n",
            "        [15246.8828],\n",
            "        [ 1931.3995],\n",
            "        [ 1984.7911],\n",
            "        [ 4463.3018],\n",
            "        [10248.9072],\n",
            "        [13237.5547],\n",
            "        [ 8911.8975],\n",
            "        [16146.9941],\n",
            "        [49860.8125],\n",
            "        [67942.4453],\n",
            "        [ 5148.3857],\n",
            "        [12739.7012],\n",
            "        [ 1892.9126],\n",
            "        [16734.2461],\n",
            "        [11025.0000],\n",
            "        [ 7376.1807],\n",
            "        [41989.3320],\n",
            "        [ 5671.2827],\n",
            "        [11278.4131],\n",
            "        [24587.1484],\n",
            "        [ 1441.0216],\n",
            "        [12415.0654],\n",
            "        [25743.2266],\n",
            "        [ 5177.3179],\n",
            "        [10130.5459],\n",
            "        [12732.4453],\n",
            "        [ 3252.2896],\n",
            "        [47530.0312],\n",
            "        [ 2694.2412],\n",
            "        [22066.9824],\n",
            "        [ 5724.2578],\n",
            "        [11369.0303],\n",
            "        [10641.9971],\n",
            "        [ 2343.8406],\n",
            "        [ 6079.2876],\n",
            "        [12297.8936],\n",
            "        [ 2932.2695],\n",
            "        [10651.3174],\n",
            "        [ 2672.6426],\n",
            "        [ 1312.5476],\n",
            "        [ 1887.6476],\n",
            "        [ 9572.6494],\n",
            "        [ 4815.1934],\n",
            "        [ 6348.0410],\n",
            "        [31756.0488],\n",
            "        [ 1457.3069],\n",
            "        [ 6531.3311],\n",
            "        [10058.5820],\n",
            "        [12977.6816],\n",
            "        [22553.1309],\n",
            "        [13266.6162],\n",
            "        [26092.6445],\n",
            "        [ 4060.7102],\n",
            "        [23394.1094],\n",
            "        [ 2553.2727],\n",
            "        [ 2003.9464],\n",
            "        [43075.3203],\n",
            "        [19868.9746],\n",
            "        [13615.9043],\n",
            "        [ 8730.9795],\n",
            "        [ 7826.2212],\n",
            "        [ 3993.9543],\n",
            "        [ 6645.6460],\n",
            "        [ 7648.4697],\n",
            "        [ 1330.2841],\n",
            "        [23544.3613],\n",
            "        [54857.6250],\n",
            "        [25381.7520],\n",
            "        [20797.9922],\n",
            "        [ 8178.0249],\n",
            "        [23522.2559],\n",
            "        [28392.7148],\n",
            "        [ 4915.0669],\n",
            "        [12298.7666],\n",
            "        [ 5151.8071],\n",
            "        [ 6924.8789],\n",
            "        [ 7955.8364],\n",
            "        [16110.0439],\n",
            "        [19240.3379],\n",
            "        [12269.4209],\n",
            "        [ 8978.7910],\n",
            "        [ 5832.6499],\n",
            "        [ 9977.5420],\n",
            "        [16790.6230],\n",
            "        [ 2224.0894],\n",
            "        [ 2615.5642],\n",
            "        [ 5254.1934],\n",
            "        [51719.1289],\n",
            "        [ 2558.9377],\n",
            "        [ 7323.9604],\n",
            "        [28901.4531],\n",
            "        [53023.8398],\n",
            "        [22729.9785],\n",
            "        [ 2125.2290],\n",
            "        [13848.3770],\n",
            "        [ 8295.2666],\n",
            "        [ 4228.3037],\n",
            "        [27333.0996],\n",
            "        [28901.6562],\n",
            "        [11763.7178],\n",
            "        [ 8989.0215],\n",
            "        [ 3131.4993],\n",
            "        [35892.9414]])\n"
          ],
          "name": "stdout"
        }
      ]
    },
    {
      "cell_type": "markdown",
      "metadata": {
        "id": "AVmCVOn0qdgR"
      },
      "source": [
        "Let's save our work by committing to Jovian."
      ]
    },
    {
      "cell_type": "code",
      "metadata": {
        "colab": {
          "base_uri": "https://localhost:8080/",
          "height": 86
        },
        "id": "by6NWo-JqdgR",
        "outputId": "7eae6314-75fb-468c-84b7-c63cd8f55770"
      },
      "source": [
        "jovian.commit(project=project_name, environment=None)"
      ],
      "execution_count": 30,
      "outputs": [
        {
          "output_type": "stream",
          "text": [
            "[jovian] Detected Colab notebook...\u001b[0m\n",
            "[jovian] Uploading colab notebook to Jovian...\u001b[0m\n",
            "[jovian] Committed successfully! https://jovian.ai/dattatreyareddy/02-insurance-linear-regression\u001b[0m\n"
          ],
          "name": "stdout"
        },
        {
          "output_type": "execute_result",
          "data": {
            "application/vnd.google.colaboratory.intrinsic+json": {
              "type": "string"
            },
            "text/plain": [
              "'https://jovian.ai/dattatreyareddy/02-insurance-linear-regression'"
            ]
          },
          "metadata": {
            "tags": []
          },
          "execution_count": 30
        }
      ]
    },
    {
      "cell_type": "markdown",
      "metadata": {
        "id": "Kq8s3-FBqdgR"
      },
      "source": [
        "## Step 3: Create a Linear Regression Model\n",
        "\n",
        "Our model itself is a fairly straightforward linear regression (we'll build more complex models in the next assignment). \n"
      ]
    },
    {
      "cell_type": "code",
      "metadata": {
        "id": "Cv5KkCiaqdgR"
      },
      "source": [
        "input_size = len(input_cols)\n",
        "output_size = len(output_cols)"
      ],
      "execution_count": 31,
      "outputs": []
    },
    {
      "cell_type": "markdown",
      "metadata": {
        "id": "Nt75d_blqdgR"
      },
      "source": [
        "**Q: Complete the class definition below by filling out the constructor (`__init__`), `forward`, `training_step` and `validation_step` methods.**\n",
        "\n",
        "Hint: Think carefully about picking a good loss fuction (it's not cross entropy). Maybe try 2-3 of them and see which one works best. See https://pytorch.org/docs/stable/nn.functional.html#loss-functions"
      ]
    },
    {
      "cell_type": "code",
      "metadata": {
        "id": "WyzdcxoeqdgR"
      },
      "source": [
        "class InsuranceModel(nn.Module):\n",
        "    def __init__(self):\n",
        "        super().__init__()\n",
        "        self.linear = nn.Linear(input_size,output_size)                # fill this (hint: use input_size & output_size defined above)\n",
        "        \n",
        "    def forward(self, xb):\n",
        "        out = self.linear(xb)                          # fill this\n",
        "        return out\n",
        "    \n",
        "    def training_step(self, batch):\n",
        "        inputs, targets = batch \n",
        "        # Generate predictions\n",
        "        out = self(inputs)          \n",
        "        # Calcuate loss\n",
        "        loss = F.l1_loss(out, targets)                          # fill this\n",
        "        return loss\n",
        "    \n",
        "    def validation_step(self, batch):\n",
        "        inputs, targets = batch\n",
        "        # Generate predictions\n",
        "        out = self(inputs)\n",
        "        # Calculate loss\n",
        "        loss = F.l1_loss(out, targets)                           # fill this    \n",
        "        return {'val_loss': loss.detach()}\n",
        "        \n",
        "    def validation_epoch_end(self, outputs):\n",
        "        batch_losses = [x['val_loss'] for x in outputs]\n",
        "        epoch_loss = torch.stack(batch_losses).mean()   # Combine losses\n",
        "        return {'val_loss': epoch_loss.item()}\n",
        "    \n",
        "    def epoch_end(self, epoch, result, num_epochs):\n",
        "        # Print result every 20th epoch\n",
        "        if (epoch+1) % 20 == 0 or epoch == num_epochs-1:\n",
        "            print(\"Epoch [{}], val_loss: {:.4f}\".format(epoch+1, result['val_loss']))"
      ],
      "execution_count": 44,
      "outputs": []
    },
    {
      "cell_type": "markdown",
      "metadata": {
        "id": "pr7JYtnrqdgS"
      },
      "source": [
        "Let us create a model using the `InsuranceModel` class. You may need to come back later and re-run the next cell to reinitialize the model, in case the loss becomes `nan` or `infinity`."
      ]
    },
    {
      "cell_type": "code",
      "metadata": {
        "id": "3g0dTLzkqdgS"
      },
      "source": [
        "model = InsuranceModel()"
      ],
      "execution_count": 45,
      "outputs": []
    },
    {
      "cell_type": "markdown",
      "metadata": {
        "id": "5iouTyDtqdgS"
      },
      "source": [
        "Let's check out the weights and biases of the model using `model.parameters`."
      ]
    },
    {
      "cell_type": "code",
      "metadata": {
        "colab": {
          "base_uri": "https://localhost:8080/"
        },
        "id": "W1bQtZy3qdgS",
        "outputId": "ad22a03f-7eec-45b6-8d1d-b044da999215"
      },
      "source": [
        "list(model.parameters())"
      ],
      "execution_count": 46,
      "outputs": [
        {
          "output_type": "execute_result",
          "data": {
            "text/plain": [
              "[Parameter containing:\n",
              " tensor([[-0.3938,  0.1756, -0.2779, -0.1026, -0.3470, -0.1027]],\n",
              "        requires_grad=True), Parameter containing:\n",
              " tensor([-0.2354], requires_grad=True)]"
            ]
          },
          "metadata": {
            "tags": []
          },
          "execution_count": 46
        }
      ]
    },
    {
      "cell_type": "markdown",
      "metadata": {
        "id": "99Vef28OqdgS"
      },
      "source": [
        "One final commit before we train the model."
      ]
    },
    {
      "cell_type": "code",
      "metadata": {
        "colab": {
          "base_uri": "https://localhost:8080/",
          "height": 86
        },
        "id": "6LYCjvA6qdgS",
        "outputId": "d244a96f-4713-435d-ec98-fb21631868c8"
      },
      "source": [
        "jovian.commit(project=project_name, environment=None)"
      ],
      "execution_count": 47,
      "outputs": [
        {
          "output_type": "stream",
          "text": [
            "[jovian] Detected Colab notebook...\u001b[0m\n",
            "[jovian] Uploading colab notebook to Jovian...\u001b[0m\n",
            "[jovian] Committed successfully! https://jovian.ai/dattatreyareddy/02-insurance-linear-regression\u001b[0m\n"
          ],
          "name": "stdout"
        },
        {
          "output_type": "execute_result",
          "data": {
            "application/vnd.google.colaboratory.intrinsic+json": {
              "type": "string"
            },
            "text/plain": [
              "'https://jovian.ai/dattatreyareddy/02-insurance-linear-regression'"
            ]
          },
          "metadata": {
            "tags": []
          },
          "execution_count": 47
        }
      ]
    },
    {
      "cell_type": "markdown",
      "metadata": {
        "id": "V0FLA7nXqdgS"
      },
      "source": [
        "## Step 4: Train the model to fit the data\n",
        "\n",
        "To train our model, we'll use the same `fit` function explained in the lecture. That's the benefit of defining a generic training loop - you can use it for any problem."
      ]
    },
    {
      "cell_type": "code",
      "metadata": {
        "id": "ugutC4tiqdgS"
      },
      "source": [
        "def evaluate(model, val_loader):\n",
        "    outputs = [model.validation_step(batch) for batch in val_loader]\n",
        "    return model.validation_epoch_end(outputs)\n",
        "\n",
        "def fit(epochs, lr, model, train_loader, val_loader, opt_func=torch.optim.SGD):\n",
        "    history = []\n",
        "    optimizer = opt_func(model.parameters(), lr)\n",
        "    for epoch in range(epochs):\n",
        "        # Training Phase \n",
        "        for batch in train_loader:\n",
        "            loss = model.training_step(batch)\n",
        "            loss.backward()\n",
        "            optimizer.step()\n",
        "            optimizer.zero_grad()\n",
        "        # Validation phase\n",
        "        result = evaluate(model, val_loader)\n",
        "        model.epoch_end(epoch, result, epochs)\n",
        "        history.append(result)\n",
        "    return history"
      ],
      "execution_count": 48,
      "outputs": []
    },
    {
      "cell_type": "markdown",
      "metadata": {
        "id": "KHWmgI2wqdgS"
      },
      "source": [
        "**Q: Use the `evaluate` function to calculate the loss on the validation set before training.**"
      ]
    },
    {
      "cell_type": "code",
      "metadata": {
        "colab": {
          "base_uri": "https://localhost:8080/"
        },
        "id": "AmkwH5G8qdgS",
        "outputId": "58196455-9f4a-451b-c20f-1183cfe9b2e5"
      },
      "source": [
        "result = evaluate(model=model,val_loader=val_loader) # Use the the evaluate function\n",
        "print(result)"
      ],
      "execution_count": 49,
      "outputs": [
        {
          "output_type": "stream",
          "text": [
            "{'val_loss': 13445.50390625}\n"
          ],
          "name": "stdout"
        }
      ]
    },
    {
      "cell_type": "markdown",
      "metadata": {
        "id": "ejkHnT-3qdgS"
      },
      "source": [
        "\n",
        "We are now ready to train the model. You may need to run the training loop many times, for different number of epochs and with different learning rates, to get a good result. Also, if your loss becomes too large (or `nan`), you may have to re-initialize the model by running the cell `model = InsuranceModel()`. Experiment with this for a while, and try to get to as low a loss as possible."
      ]
    },
    {
      "cell_type": "markdown",
      "metadata": {
        "id": "GqmThhgnqdgS"
      },
      "source": [
        "**Q: Train the model 4-5 times with different learning rates & for different number of epochs.**\n",
        "\n",
        "Hint: Vary learning rates by orders of 10 (e.g. `1e-2`, `1e-3`, `1e-4`, `1e-5`, `1e-6`) to figure out what works."
      ]
    },
    {
      "cell_type": "code",
      "metadata": {
        "colab": {
          "base_uri": "https://localhost:8080/"
        },
        "id": "HxrPwTjiqdgS",
        "outputId": "44016f1d-ef57-4d2c-e399-79a2db9b2cca"
      },
      "source": [
        "epochs = 500\n",
        "lr = 1e-3\n",
        "history1 = fit(epochs, lr, model, train_loader, val_loader)"
      ],
      "execution_count": 50,
      "outputs": [
        {
          "output_type": "stream",
          "text": [
            "Epoch [20], val_loss: 13024.1914\n",
            "Epoch [40], val_loss: 12602.8516\n",
            "Epoch [60], val_loss: 12181.5488\n",
            "Epoch [80], val_loss: 11760.8086\n",
            "Epoch [100], val_loss: 11343.8359\n",
            "Epoch [120], val_loss: 10932.9863\n",
            "Epoch [140], val_loss: 10535.1250\n",
            "Epoch [160], val_loss: 10167.8652\n",
            "Epoch [180], val_loss: 9839.5410\n",
            "Epoch [200], val_loss: 9541.1348\n",
            "Epoch [220], val_loss: 9276.5742\n",
            "Epoch [240], val_loss: 9039.5488\n",
            "Epoch [260], val_loss: 8825.8633\n",
            "Epoch [280], val_loss: 8628.6309\n",
            "Epoch [300], val_loss: 8451.0352\n",
            "Epoch [320], val_loss: 8290.9561\n",
            "Epoch [340], val_loss: 8146.5752\n",
            "Epoch [360], val_loss: 8024.3809\n",
            "Epoch [380], val_loss: 7922.8887\n",
            "Epoch [400], val_loss: 7840.0693\n",
            "Epoch [420], val_loss: 7768.6074\n",
            "Epoch [440], val_loss: 7704.5840\n",
            "Epoch [460], val_loss: 7653.7959\n",
            "Epoch [480], val_loss: 7609.6353\n",
            "Epoch [500], val_loss: 7570.2881\n"
          ],
          "name": "stdout"
        }
      ]
    },
    {
      "cell_type": "code",
      "metadata": {
        "colab": {
          "base_uri": "https://localhost:8080/"
        },
        "id": "ZPhJ_GAtqdgS",
        "outputId": "5abb471e-e28c-4536-ff4d-5188a709c7f4"
      },
      "source": [
        "epochs = 500\n",
        "lr = 1e-2\n",
        "history2 = fit(epochs, lr, model, train_loader, val_loader)"
      ],
      "execution_count": 51,
      "outputs": [
        {
          "output_type": "stream",
          "text": [
            "Epoch [20], val_loss: 7438.2100\n",
            "Epoch [40], val_loss: 7437.1416\n",
            "Epoch [60], val_loss: 7426.8516\n",
            "Epoch [80], val_loss: 7407.0674\n",
            "Epoch [100], val_loss: 7384.1494\n",
            "Epoch [120], val_loss: 7358.7207\n",
            "Epoch [140], val_loss: 7333.4131\n",
            "Epoch [160], val_loss: 7308.1621\n",
            "Epoch [180], val_loss: 7282.4229\n",
            "Epoch [200], val_loss: 7257.9375\n",
            "Epoch [220], val_loss: 7234.1279\n",
            "Epoch [240], val_loss: 7211.0566\n",
            "Epoch [260], val_loss: 7188.0337\n",
            "Epoch [280], val_loss: 7165.4834\n",
            "Epoch [300], val_loss: 7142.4741\n",
            "Epoch [320], val_loss: 7119.7891\n",
            "Epoch [340], val_loss: 7097.3867\n",
            "Epoch [360], val_loss: 7075.3901\n",
            "Epoch [380], val_loss: 7052.7056\n",
            "Epoch [400], val_loss: 7030.1670\n",
            "Epoch [420], val_loss: 7008.2075\n",
            "Epoch [440], val_loss: 6987.5264\n",
            "Epoch [460], val_loss: 6967.2793\n",
            "Epoch [480], val_loss: 6947.0186\n",
            "Epoch [500], val_loss: 6927.7393\n"
          ],
          "name": "stdout"
        }
      ]
    },
    {
      "cell_type": "code",
      "metadata": {
        "colab": {
          "base_uri": "https://localhost:8080/"
        },
        "id": "mGNIYZSpqdgS",
        "outputId": "daa26f43-7367-47c8-ad63-75c0d37ef944"
      },
      "source": [
        "epochs = 500\n",
        "lr = 1e-4\n",
        "history3 = fit(epochs, lr, model, train_loader, val_loader)"
      ],
      "execution_count": 52,
      "outputs": [
        {
          "output_type": "stream",
          "text": [
            "Epoch [20], val_loss: 6927.5742\n",
            "Epoch [40], val_loss: 6927.4023\n",
            "Epoch [60], val_loss: 6927.2344\n",
            "Epoch [80], val_loss: 6927.0684\n",
            "Epoch [100], val_loss: 6926.9028\n",
            "Epoch [120], val_loss: 6926.7324\n",
            "Epoch [140], val_loss: 6926.5635\n",
            "Epoch [160], val_loss: 6926.4014\n",
            "Epoch [180], val_loss: 6926.2354\n",
            "Epoch [200], val_loss: 6926.0684\n",
            "Epoch [220], val_loss: 6925.9062\n",
            "Epoch [240], val_loss: 6925.7446\n",
            "Epoch [260], val_loss: 6925.5811\n",
            "Epoch [280], val_loss: 6925.4238\n",
            "Epoch [300], val_loss: 6925.2607\n",
            "Epoch [320], val_loss: 6925.1064\n",
            "Epoch [340], val_loss: 6924.9434\n",
            "Epoch [360], val_loss: 6924.7808\n",
            "Epoch [380], val_loss: 6924.6206\n",
            "Epoch [400], val_loss: 6924.4585\n",
            "Epoch [420], val_loss: 6924.2939\n",
            "Epoch [440], val_loss: 6924.1367\n",
            "Epoch [460], val_loss: 6923.9897\n",
            "Epoch [480], val_loss: 6923.8389\n",
            "Epoch [500], val_loss: 6923.6875\n"
          ],
          "name": "stdout"
        }
      ]
    },
    {
      "cell_type": "code",
      "metadata": {
        "colab": {
          "base_uri": "https://localhost:8080/"
        },
        "id": "GbL_ezb2qdgS",
        "outputId": "a4b9cb59-a390-4821-dc78-54c0f7722c18"
      },
      "source": [
        "epochs = 500\n",
        "lr = 1e-1\n",
        "history4 = fit(epochs, lr, model, train_loader, val_loader)"
      ],
      "execution_count": 54,
      "outputs": [
        {
          "output_type": "stream",
          "text": [
            "Epoch [20], val_loss: 6621.5254\n",
            "Epoch [40], val_loss: 6622.4346\n",
            "Epoch [60], val_loss: 6619.9092\n",
            "Epoch [80], val_loss: 6613.4893\n",
            "Epoch [100], val_loss: 6613.3677\n",
            "Epoch [120], val_loss: 6613.5322\n",
            "Epoch [140], val_loss: 6607.3521\n",
            "Epoch [160], val_loss: 6604.8857\n",
            "Epoch [180], val_loss: 6600.3760\n",
            "Epoch [200], val_loss: 6595.5874\n",
            "Epoch [220], val_loss: 6599.5186\n",
            "Epoch [240], val_loss: 6590.7925\n",
            "Epoch [260], val_loss: 6583.6704\n",
            "Epoch [280], val_loss: 6584.1406\n",
            "Epoch [300], val_loss: 6585.9385\n",
            "Epoch [320], val_loss: 6586.4048\n",
            "Epoch [340], val_loss: 6588.2656\n",
            "Epoch [360], val_loss: 6573.8018\n",
            "Epoch [380], val_loss: 6581.5107\n",
            "Epoch [400], val_loss: 6575.9502\n",
            "Epoch [420], val_loss: 6574.6904\n",
            "Epoch [440], val_loss: 6569.1543\n",
            "Epoch [460], val_loss: 6567.0098\n",
            "Epoch [480], val_loss: 6566.0942\n",
            "Epoch [500], val_loss: 6561.3735\n"
          ],
          "name": "stdout"
        }
      ]
    },
    {
      "cell_type": "code",
      "metadata": {
        "colab": {
          "base_uri": "https://localhost:8080/"
        },
        "id": "4ifQJo8zqdgS",
        "outputId": "2f24ab97-14b7-4f7d-8129-16793f6ccc1a"
      },
      "source": [
        "epochs = 1000\n",
        "lr = 1e-6\n",
        "history5 = fit(epochs, lr, model, train_loader, val_loader)"
      ],
      "execution_count": 55,
      "outputs": [
        {
          "output_type": "stream",
          "text": [
            "Epoch [20], val_loss: 6561.3740\n",
            "Epoch [40], val_loss: 6561.3740\n",
            "Epoch [60], val_loss: 6561.3750\n",
            "Epoch [80], val_loss: 6561.3750\n",
            "Epoch [100], val_loss: 6561.3750\n",
            "Epoch [120], val_loss: 6561.3760\n",
            "Epoch [140], val_loss: 6561.3765\n",
            "Epoch [160], val_loss: 6561.3770\n",
            "Epoch [180], val_loss: 6561.3774\n",
            "Epoch [200], val_loss: 6561.3779\n",
            "Epoch [220], val_loss: 6561.3779\n",
            "Epoch [240], val_loss: 6561.3789\n",
            "Epoch [260], val_loss: 6561.3799\n",
            "Epoch [280], val_loss: 6561.3799\n",
            "Epoch [300], val_loss: 6561.3809\n",
            "Epoch [320], val_loss: 6561.3813\n",
            "Epoch [340], val_loss: 6561.3818\n",
            "Epoch [360], val_loss: 6561.3818\n",
            "Epoch [380], val_loss: 6561.3828\n",
            "Epoch [400], val_loss: 6561.3828\n",
            "Epoch [420], val_loss: 6561.3833\n",
            "Epoch [440], val_loss: 6561.3838\n",
            "Epoch [460], val_loss: 6561.3848\n",
            "Epoch [480], val_loss: 6561.3848\n",
            "Epoch [500], val_loss: 6561.3853\n",
            "Epoch [520], val_loss: 6561.3857\n",
            "Epoch [540], val_loss: 6561.3867\n",
            "Epoch [560], val_loss: 6561.3867\n",
            "Epoch [580], val_loss: 6561.3877\n",
            "Epoch [600], val_loss: 6561.3877\n",
            "Epoch [620], val_loss: 6561.3887\n",
            "Epoch [640], val_loss: 6561.3887\n",
            "Epoch [660], val_loss: 6561.3892\n",
            "Epoch [680], val_loss: 6561.3896\n",
            "Epoch [700], val_loss: 6561.3896\n",
            "Epoch [720], val_loss: 6561.3906\n",
            "Epoch [740], val_loss: 6561.3906\n",
            "Epoch [760], val_loss: 6561.3916\n",
            "Epoch [780], val_loss: 6561.3916\n",
            "Epoch [800], val_loss: 6561.3916\n",
            "Epoch [820], val_loss: 6561.3926\n",
            "Epoch [840], val_loss: 6561.3926\n",
            "Epoch [860], val_loss: 6561.3926\n",
            "Epoch [880], val_loss: 6561.3936\n",
            "Epoch [900], val_loss: 6561.3940\n",
            "Epoch [920], val_loss: 6561.3945\n",
            "Epoch [940], val_loss: 6561.3945\n",
            "Epoch [960], val_loss: 6561.3950\n",
            "Epoch [980], val_loss: 6561.3955\n",
            "Epoch [1000], val_loss: 6561.3955\n"
          ],
          "name": "stdout"
        }
      ]
    },
    {
      "cell_type": "markdown",
      "metadata": {
        "id": "615wqCsjqdgS"
      },
      "source": [
        "**Q: What is the final validation loss of your model?**"
      ]
    },
    {
      "cell_type": "code",
      "metadata": {
        "id": "ysJcUcHyqdgS"
      },
      "source": [
        "val_loss = 6561.3955"
      ],
      "execution_count": 56,
      "outputs": []
    },
    {
      "cell_type": "markdown",
      "metadata": {
        "id": "GzbBn-LwqdgS"
      },
      "source": [
        "Let's log the final validation loss to Jovian and commit the notebook"
      ]
    },
    {
      "cell_type": "code",
      "metadata": {
        "colab": {
          "base_uri": "https://localhost:8080/"
        },
        "id": "mqFHnxzvqdgS",
        "outputId": "b9455faa-b2ff-4f03-9bbf-6bf1d25669e3"
      },
      "source": [
        "jovian.log_metrics(val_loss=val_loss)"
      ],
      "execution_count": 57,
      "outputs": [
        {
          "output_type": "stream",
          "text": [
            "[jovian] Metrics logged.\u001b[0m\n"
          ],
          "name": "stdout"
        }
      ]
    },
    {
      "cell_type": "code",
      "metadata": {
        "colab": {
          "base_uri": "https://localhost:8080/",
          "height": 102
        },
        "id": "tjeicuW0qdgS",
        "outputId": "83c697a7-8513-4c59-836b-74c4485ef235"
      },
      "source": [
        "jovian.commit(project=project_name, environment=None)"
      ],
      "execution_count": 58,
      "outputs": [
        {
          "output_type": "stream",
          "text": [
            "[jovian] Detected Colab notebook...\u001b[0m\n",
            "[jovian] Uploading colab notebook to Jovian...\u001b[0m\n",
            "[jovian] Attaching records (metrics, hyperparameters, dataset etc.)\u001b[0m\n",
            "[jovian] Committed successfully! https://jovian.ai/dattatreyareddy/02-insurance-linear-regression\u001b[0m\n"
          ],
          "name": "stdout"
        },
        {
          "output_type": "execute_result",
          "data": {
            "application/vnd.google.colaboratory.intrinsic+json": {
              "type": "string"
            },
            "text/plain": [
              "'https://jovian.ai/dattatreyareddy/02-insurance-linear-regression'"
            ]
          },
          "metadata": {
            "tags": []
          },
          "execution_count": 58
        }
      ]
    },
    {
      "cell_type": "markdown",
      "metadata": {
        "id": "-i5r5te7qdgS"
      },
      "source": [
        "Now scroll back up, re-initialize the model, and try different set of values for batch size, number of epochs, learning rate etc. Commit each experiment and use the \"Compare\" and \"View Diff\" options on Jovian to compare the different results."
      ]
    },
    {
      "cell_type": "markdown",
      "metadata": {
        "id": "mJ7PQnqwqdgS"
      },
      "source": [
        "## Step 5: Make predictions using the trained model\n",
        "\n",
        "**Q: Complete the following function definition to make predictions on a single input**"
      ]
    },
    {
      "cell_type": "code",
      "metadata": {
        "id": "bQR8-Ji_qdgS"
      },
      "source": [
        "def predict_single(input, target, model):\n",
        "    inputs = input.unsqueeze(0)\n",
        "    predictions = model(inputs)                # fill this\n",
        "    prediction = predictions[0].detach()\n",
        "    print(\"Input:\", input)\n",
        "    print(\"Target:\", target)\n",
        "    print(\"Prediction:\", prediction)"
      ],
      "execution_count": 59,
      "outputs": []
    },
    {
      "cell_type": "code",
      "metadata": {
        "colab": {
          "base_uri": "https://localhost:8080/"
        },
        "id": "S9sJuSKsqdgS",
        "outputId": "5ff2d988-61e5-4cff-bc3f-1fd3705e2ad0"
      },
      "source": [
        "input, target = val_ds[0]\n",
        "predict_single(input, target, model)"
      ],
      "execution_count": 60,
      "outputs": [
        {
          "output_type": "stream",
          "text": [
            "Input: tensor([29.0000,  0.0000, 31.1467,  2.0000,  0.0000,  1.0000])\n",
            "Target: tensor([5710.5825])\n",
            "Prediction: tensor([5794.3081])\n"
          ],
          "name": "stdout"
        }
      ]
    },
    {
      "cell_type": "code",
      "metadata": {
        "colab": {
          "base_uri": "https://localhost:8080/"
        },
        "id": "rTnWPzTSqdgS",
        "outputId": "e6f88f91-e7b0-436b-db23-a7003540da19"
      },
      "source": [
        "input, target = val_ds[10]\n",
        "predict_single(input, target, model)"
      ],
      "execution_count": 61,
      "outputs": [
        {
          "output_type": "stream",
          "text": [
            "Input: tensor([50.0000,  1.0000, 24.5410,  0.0000,  0.0000,  2.0000])\n",
            "Target: tensor([9793.4941])\n",
            "Prediction: tensor([12106.4053])\n"
          ],
          "name": "stdout"
        }
      ]
    },
    {
      "cell_type": "code",
      "metadata": {
        "colab": {
          "base_uri": "https://localhost:8080/"
        },
        "id": "8_KAo02RqdgS",
        "outputId": "32f14717-0157-4831-ed2f-10e943a658e6"
      },
      "source": [
        "input, target = val_ds[23]\n",
        "predict_single(input, target, model)"
      ],
      "execution_count": 62,
      "outputs": [
        {
          "output_type": "stream",
          "text": [
            "Input: tensor([45.0000,  1.0000, 23.5807,  5.0000,  0.0000,  2.0000])\n",
            "Target: tensor([11355.0840])\n",
            "Prediction: tensor([11566.2549])\n"
          ],
          "name": "stdout"
        }
      ]
    },
    {
      "cell_type": "markdown",
      "metadata": {
        "id": "dmi5Cd3pqdgS"
      },
      "source": [
        "Are you happy with your model's predictions? Try to improve them further."
      ]
    },
    {
      "cell_type": "markdown",
      "metadata": {
        "id": "98SnvmFEqdgS"
      },
      "source": [
        "## (Optional) Step 6: Try another dataset & blog about it\n",
        "\n",
        "While this last step is optional for the submission of your assignment, we highly recommend that you do it. Try to replicate this notebook for a different linear regression or logistic regression problem. This will help solidify your understanding, and give you a chance to differentiate the generic patterns in machine learning from problem-specific details.You can use one of these starer notebooks (just change the dataset):\n",
        "\n",
        "- Linear regression (minimal): https://jovian.ai/aakashns/housing-linear-minimal\n",
        "- Logistic regression (minimal): https://jovian.ai/aakashns/mnist-logistic-minimal\n",
        "\n",
        "Here are some sources to find good datasets:\n",
        "\n",
        "- https://lionbridge.ai/datasets/10-open-datasets-for-linear-regression/\n",
        "- https://www.kaggle.com/rtatman/datasets-for-regression-analysis\n",
        "- https://archive.ics.uci.edu/ml/datasets.php?format=&task=reg&att=&area=&numAtt=&numIns=&type=&sort=nameUp&view=table\n",
        "- https://people.sc.fsu.edu/~jburkardt/datasets/regression/regression.html\n",
        "- https://archive.ics.uci.edu/ml/datasets/wine+quality\n",
        "- https://pytorch.org/docs/stable/torchvision/datasets.html\n",
        "\n",
        "We also recommend that you write a blog about your approach to the problem. Here is a suggested structure for your post (feel free to experiment with it):\n",
        "\n",
        "- Interesting title & subtitle\n",
        "- Overview of what the blog covers (which dataset, linear regression or logistic regression, intro to PyTorch)\n",
        "- Downloading & exploring the data\n",
        "- Preparing the data for training\n",
        "- Creating a model using PyTorch\n",
        "- Training the model to fit the data\n",
        "- Your thoughts on how to experiment with different hyperparmeters to reduce loss\n",
        "- Making predictions using the model\n",
        "\n",
        "As with the previous assignment, you can [embed Juptyer notebook cells & outputs from Jovian](https://medium.com/jovianml/share-and-embed-jupyter-notebooks-online-with-jovian-ml-df709a03064e) into your blog. \n",
        "\n",
        "Don't forget to share your work on the forum: https://jovian.ai/forum/t/linear-regression-and-logistic-regression-notebooks-and-blog-posts/14039"
      ]
    },
    {
      "cell_type": "code",
      "metadata": {
        "id": "ICGKBOopqdgS"
      },
      "source": [
        "jovian.commit(project=project_name, environment=None)\n",
        "jovian.commit(project=project_name, environment=None) # try again, kaggle fails sometimes"
      ],
      "execution_count": null,
      "outputs": []
    },
    {
      "cell_type": "code",
      "metadata": {
        "id": "HvZPjR-6qdgS"
      },
      "source": [
        ""
      ],
      "execution_count": null,
      "outputs": []
    }
  ]
}